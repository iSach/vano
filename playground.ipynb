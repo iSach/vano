{
 "cells": [
  {
   "cell_type": "code",
   "execution_count": 87,
   "metadata": {},
   "outputs": [],
   "source": [
    "import torch\n",
    "import torch.nn as nn\n",
    "import torch.nn.functional as F\n",
    "import torch.optim as topt\n",
    "import torchvision\n",
    "import torchvision.transforms as transforms\n",
    "import matplotlib.pyplot as plt\n",
    "import numpy as np\n",
    "\n",
    "from tqdm.notebook import tqdm\n",
    "\n",
    "# torch distribs\n",
    "import torch.distributions as dists\n",
    "\n",
    "from neuralop.models import FNO"
   ]
  },
  {
   "cell_type": "markdown",
   "metadata": {},
   "source": [
    "# <u>Experiments</u>"
   ]
  },
  {
   "cell_type": "markdown",
   "metadata": {},
   "source": [
    "### 1. Gaussian Random Fields (GRF)"
   ]
  },
  {
   "cell_type": "code",
   "execution_count": 7,
   "metadata": {},
   "outputs": [
    {
     "name": "stderr",
     "output_type": "stream",
     "text": [
      "/Users/sach/miniconda3/envs/deeplearning/lib/python3.9/site-packages/torch/functional.py:507: UserWarning: torch.meshgrid: in an upcoming release, it will be required to pass the indexing argument. (Triggered internally at /Users/runner/work/_temp/anaconda/conda-bld/pytorch_1699947508764/work/aten/src/ATen/native/TensorShape.cpp:3550.)\n",
      "  return _VF.meshgrid(tensors, **kwargs)  # type: ignore[attr-defined]\n"
     ]
    },
    {
     "ename": "RuntimeError",
     "evalue": "Number of dimensions of repeat dims can not be smaller than number of dimensions of tensor",
     "output_type": "error",
     "traceback": [
      "\u001b[0;31m---------------------------------------------------------------------------\u001b[0m",
      "\u001b[0;31mRuntimeError\u001b[0m                              Traceback (most recent call last)",
      "\u001b[1;32m/Users/sach/Development/Python/VANO/playground.ipynb Cell 3\u001b[0m line \u001b[0;36m4\n\u001b[1;32m     <a href='vscode-notebook-cell:/Users/sach/Development/Python/VANO/playground.ipynb#W2sZmlsZQ%3D%3D?line=40'>41</a>\u001b[0m     plt\u001b[39m.\u001b[39mshow()\n\u001b[1;32m     <a href='vscode-notebook-cell:/Users/sach/Development/Python/VANO/playground.ipynb#W2sZmlsZQ%3D%3D?line=42'>43</a>\u001b[0m \u001b[39m# gen & plot\u001b[39;00m\n\u001b[0;32m---> <a href='vscode-notebook-cell:/Users/sach/Development/Python/VANO/playground.ipynb#W2sZmlsZQ%3D%3D?line=43'>44</a>\u001b[0m grid \u001b[39m=\u001b[39m gaussian_random_field((\u001b[39m128\u001b[39;49m, \u001b[39m128\u001b[39;49m))\n\u001b[1;32m     <a href='vscode-notebook-cell:/Users/sach/Development/Python/VANO/playground.ipynb#W2sZmlsZQ%3D%3D?line=44'>45</a>\u001b[0m plot_grid(grid, title\u001b[39m=\u001b[39m\u001b[39m'\u001b[39m\u001b[39mGaussian Random Field\u001b[39m\u001b[39m'\u001b[39m)\n",
      "\u001b[1;32m/Users/sach/Development/Python/VANO/playground.ipynb Cell 3\u001b[0m line \u001b[0;36m2\n\u001b[1;32m     <a href='vscode-notebook-cell:/Users/sach/Development/Python/VANO/playground.ipynb#W2sZmlsZQ%3D%3D?line=17'>18</a>\u001b[0m grid \u001b[39m=\u001b[39m torch\u001b[39m.\u001b[39mstack([x, y], dim\u001b[39m=\u001b[39m\u001b[39m-\u001b[39m\u001b[39m1\u001b[39m)\n\u001b[1;32m     <a href='vscode-notebook-cell:/Users/sach/Development/Python/VANO/playground.ipynb#W2sZmlsZQ%3D%3D?line=18'>19</a>\u001b[0m grid \u001b[39m=\u001b[39m grid\u001b[39m.\u001b[39munsqueeze(\u001b[39m0\u001b[39m)\u001b[39m.\u001b[39munsqueeze(\u001b[39m0\u001b[39m)\n\u001b[0;32m---> <a href='vscode-notebook-cell:/Users/sach/Development/Python/VANO/playground.ipynb#W2sZmlsZQ%3D%3D?line=19'>20</a>\u001b[0m grid \u001b[39m=\u001b[39m grid\u001b[39m.\u001b[39;49mrepeat(\u001b[39m1\u001b[39;49m, \u001b[39m1\u001b[39;49m, \u001b[39m1\u001b[39;49m, \u001b[39m1\u001b[39;49m)\n\u001b[1;32m     <a href='vscode-notebook-cell:/Users/sach/Development/Python/VANO/playground.ipynb#W2sZmlsZQ%3D%3D?line=20'>21</a>\u001b[0m grid \u001b[39m=\u001b[39m grid \u001b[39m/\u001b[39m scale\n\u001b[1;32m     <a href='vscode-notebook-cell:/Users/sach/Development/Python/VANO/playground.ipynb#W2sZmlsZQ%3D%3D?line=21'>22</a>\u001b[0m grid \u001b[39m=\u001b[39m grid \u001b[39m-\u001b[39m grid\u001b[39m.\u001b[39mmean()\n",
      "\u001b[0;31mRuntimeError\u001b[0m: Number of dimensions of repeat dims can not be smaller than number of dimensions of tensor"
     ]
    }
   ],
   "source": [
    "# Data\n",
    "\n",
    "# GRF (TODO)\n",
    "# Is it like Gaussian Processes? In the VANO paper, it just seems like functions where each f(x_i) is a Gaussian random variable, but they are linked so that it is \"continuous\""
   ]
  },
  {
   "cell_type": "markdown",
   "metadata": {},
   "source": [
    "### 2. 2D Gaussian Densities"
   ]
  },
  {
   "cell_type": "code",
   "execution_count": 82,
   "metadata": {},
   "outputs": [],
   "source": [
    "class Encoder(nn.Module):\n",
    "    def __init__(self, latent_dim=32, input_dim=2, output_dim=1, device='cpu'):\n",
    "        super(Encoder, self).__init__()\n",
    "\n",
    "        self.latent_dim = latent_dim\n",
    "        self.input_dim = input_dim\n",
    "        self.output_dim = output_dim\n",
    "\n",
    "        self.activ = nn.GELU()\n",
    "\n",
    "        # Input: [output_dim, 48, 48]\n",
    "        self.seq = nn.Sequential(\n",
    "            nn.Conv2d(output_dim, 8, 2),        # [8, 47, 47]\n",
    "            self.activ,\n",
    "            nn.Conv2d(8, 16, 2),                # [16, 46, 46]\n",
    "            self.activ,\n",
    "            nn.MaxPool2d(2),                    # [16, 23, 23]\n",
    "            nn.Conv2d(16, 32, 2),               # [32, 22, 22]\n",
    "            self.activ,\n",
    "            nn.Conv2d(32, 64, 2),               # [64, 21, 21]\n",
    "            self.activ,\n",
    "            nn.MaxPool2d(2),                    # [64, 10, 10]\n",
    "            nn.Flatten(),                       # [64 * 10 * 10]\n",
    "            nn.Linear(64 * 10 * 10, 256),       # [256]\n",
    "            self.activ,\n",
    "            nn.Linear(256, 128),                # [128]\n",
    "            self.activ,\n",
    "            nn.Linear(128, 2 * self.latent_dim) # [2 * latent_dim]\n",
    "        )\n",
    "\n",
    "    def forward(self, u):\n",
    "        out = self.seq(u)\n",
    "        mean = out[:, :self.latent_dim]\n",
    "        logvar = out[:, self.latent_dim:]\n",
    "\n",
    "        eps = torch.randn(u.shape[0], self.latent_dim, device=u.device)\n",
    "        z = mean + eps * torch.exp(0.5 * logvar)\n",
    "\n",
    "        return mean, logvar, z\n",
    "\n",
    "class Decoder(nn.Module):\n",
    "    def __init__(self, latent_dim=32, input_dim=2, output_dim=1, device='cpu'):\n",
    "        super(Decoder, self).__init__()\n",
    "\n",
    "        self.latent_dim = latent_dim\n",
    "        self.input_dim = input_dim\n",
    "        self.output_dim = output_dim\n",
    "\n",
    "        # (original) NeRF-like architecture\n",
    "        self.mlp_x = nn.Sequential(\n",
    "            nn.Linear(self.input_dim, 128),\n",
    "            nn.ReLU(),\n",
    "            nn.Linear(128, 256),\n",
    "            nn.ReLU(),\n",
    "            nn.Linear(256, 32)\n",
    "        )\n",
    "        self.mlp_z = nn.Sequential(\n",
    "            nn.Linear(self.latent_dim, 2 * self.latent_dim),\n",
    "            nn.ReLU(),\n",
    "            nn.Linear(2 * self.latent_dim, 2 * self.latent_dim),\n",
    "            nn.ReLU(),\n",
    "            nn.Linear(2 * self.latent_dim, 32)\n",
    "        )\n",
    "        self.joint_mlp = nn.Sequential(\n",
    "            nn.Linear(64, 128),\n",
    "            nn.ReLU(),\n",
    "            nn.Linear(128, 256),\n",
    "            nn.ReLU(),\n",
    "            nn.Linear(256, output_dim)\n",
    "        )\n",
    "\n",
    "    def forward(self, x, z):\n",
    "        \"\"\"\n",
    "        Computes u(x) by conditioning on z, a latent representation of u.\n",
    "\n",
    "        Args:\n",
    "            x: (batch_size, input_dim) tensor of spatial locations\n",
    "            z: (batch_size, latent_dim) tensor of latent representations\n",
    "        \"\"\"\n",
    "        x = self.mlp_x(x)\n",
    "        z = self.mlp_z(z)\n",
    "        # z is [32, 32], reshape to [32, 48, 48, 32]\n",
    "        z = z.view(-1, 1, 1, 32).expand(-1, 48, 48, -1)\n",
    "        xz = torch.cat([x, z], dim=-1)\n",
    "        xz = self.joint_mlp(xz)\n",
    "\n",
    "        return xz\n",
    "\n",
    "\n",
    "class VANO(nn.Module):\n",
    "    def __init__(self, latent_dim=32, input_dim=2, output_dim=1, device='cpu'):\n",
    "        super(VANO, self).__init__()\n",
    "    \n",
    "        self.encoder = Encoder(latent_dim, input_dim, output_dim, device)\n",
    "        self.decoder = Decoder(latent_dim, input_dim, output_dim, device)\n",
    "\n",
    "        ls = torch.linspace(0, 1, 48).to(device)\n",
    "        self.grid = torch.stack(torch.meshgrid(ls, ls), dim=-1).unsqueeze(0)\n",
    "\n",
    "    def forward(self, u):\n",
    "        z, mean, logvar = self.encoder(u)\n",
    "        grids = self.grid.expand(u.shape[0], *self.grid.shape[1:])\n",
    "        u_pred = self.decoder(grids, z)\n",
    "\n",
    "        return mean, logvar, z, u_pred"
   ]
  },
  {
   "cell_type": "code",
   "execution_count": 12,
   "metadata": {},
   "outputs": [
    {
     "name": "stdout",
     "output_type": "stream",
     "text": [
      "torch.Size([5, 32]) torch.Size([5, 32]) torch.Size([5, 32])\n",
      "torch.Size([5, 1])\n"
     ]
    }
   ],
   "source": [
    "enc = Encoder()\n",
    "\n",
    "u = torch.randn(5, 1, 48, 48)\n",
    "\n",
    "mean, logvar, z = enc(u)\n",
    "print(z.shape, mean.shape, logvar.shape)\n",
    "\n",
    "x = torch.rand(5, 2)\n",
    "dec = Decoder()\n",
    "out = dec(x, z)\n",
    "print(out.shape)"
   ]
  },
  {
   "cell_type": "code",
   "execution_count": 97,
   "metadata": {},
   "outputs": [
    {
     "name": "stdout",
     "output_type": "stream",
     "text": [
      "Grid size torch.Size([2048, 48, 48, 2])\n",
      "Function size torch.Size([2048, 48, 48])\n"
     ]
    },
    {
     "data": {
      "image/png": "[encoded data removed]",
      "text/plain": [
       "<Figure size 500x500 with 25 Axes>"
      ]
     },
     "metadata": {},
     "output_type": "display_data"
    }
   ],
   "source": [
    "def gen_datasets(N=1, device='cpu'):\n",
    "    \"\"\"\n",
    "    Creates N 2D gaussian pdfs.\n",
    "    \"\"\"\n",
    "    mu_x = dists.Uniform(0, 1).sample((N,))\n",
    "    mu_y = dists.Uniform(0, 1).sample((N,))\n",
    "\n",
    "    # Std dev\n",
    "    sigma = 0.01 + dists.Uniform(0, 0.1).sample((N,))\n",
    "    \n",
    "    dim_range = torch.linspace(0, 1, 48)\n",
    "    grid = torch.stack(torch.meshgrid(dim_range, dim_range), dim=-1)\n",
    "\n",
    "    x = torch.stack([grid] * N, dim=0)\n",
    "    y = torch.stack([dists.MultivariateNormal(\n",
    "        torch.tensor([mu_x[i], mu_y[i]]),\n",
    "        covariance_matrix=(sigma[i]**2 * torch.eye(2))\n",
    "        ).log_prob(grid) for i in range(N)], dim=0)\n",
    "\n",
    "    return x.to(device), y.exp().to(device)\n",
    "\n",
    "# Generate datasets\n",
    "N_train = 2048\n",
    "N_test = 32\n",
    "\n",
    "train_data = gen_datasets(N_train, device='mps')\n",
    "test_data = gen_datasets(N_test, device='mps')\n",
    "\n",
    "train_dataset = torch.utils.data.TensorDataset(*train_data)\n",
    "test_dataset = torch.utils.data.TensorDataset(*test_data)\n",
    "train_loader = torch.utils.data.DataLoader(train_dataset, batch_size=32, shuffle=True)\n",
    "test_loader = torch.utils.data.DataLoader(test_dataset, batch_size=32, shuffle=False)\n",
    "\n",
    "print(\"Grid size\", train_data[0].shape)\n",
    "print(\"Function size\", train_data[1].shape)\n",
    "\n",
    "# Plot a grid with 10x10 sample functions\n",
    "example_fcts = train_data[1][:100].reshape(10, 10, 48, 48).cpu().numpy()\n",
    "grid_size = 5\n",
    "fig, ax = plt.subplots(grid_size, grid_size, figsize=(grid_size, grid_size))\n",
    "for i in range(grid_size):\n",
    "    for j in range(grid_size):\n",
    "        data = example_fcts[i, j]\n",
    "        ax[i, j].imshow(data)\n",
    "        ax[i, j].axis('off')\n",
    "plt.show()"
   ]
  },
  {
   "cell_type": "code",
   "execution_count": 99,
   "metadata": {},
   "outputs": [
    {
     "data": {
      "application/vnd.jupyter.widget-view+json": {
       "model_id": "8bafe491490347309fbe17ac816f4d17",
       "version_major": 2,
       "version_minor": 0
      },
      "text/plain": [
       "Epochs:   0%|          | 0/7 [00:00<?, ?it/s]"
      ]
     },
     "metadata": {},
     "output_type": "display_data"
    },
    {
     "data": {
      "application/vnd.jupyter.widget-view+json": {
       "model_id": "fb711c821a25430cad7e4f08a2b442d0",
       "version_major": 2,
       "version_minor": 0
      },
      "text/plain": [
       "  0%|          | 0/64 [00:00<?, ?it/s]"
      ]
     },
     "metadata": {},
     "output_type": "display_data"
    },
    {
     "data": {
      "application/vnd.jupyter.widget-view+json": {
       "model_id": "b5cb6926b49e423d8479916adafaa6d5",
       "version_major": 2,
       "version_minor": 0
      },
      "text/plain": [
       "  0%|          | 0/64 [00:00<?, ?it/s]"
      ]
     },
     "metadata": {},
     "output_type": "display_data"
    },
    {
     "ename": "KeyboardInterrupt",
     "evalue": "",
     "output_type": "error",
     "traceback": [
      "\u001b[0;31m---------------------------------------------------------------------------\u001b[0m",
      "\u001b[0;31mKeyboardInterrupt\u001b[0m                         Traceback (most recent call last)",
      "\u001b[1;32m/Users/sach/Development/Python/VANO/playground.ipynb Cell 9\u001b[0m line \u001b[0;36m4\n\u001b[1;32m     <a href='vscode-notebook-cell:/Users/sach/Development/Python/VANO/playground.ipynb#X11sZmlsZQ%3D%3D?line=41'>42</a>\u001b[0m loss\u001b[39m.\u001b[39mbackward()            \n\u001b[1;32m     <a href='vscode-notebook-cell:/Users/sach/Development/Python/VANO/playground.ipynb#X11sZmlsZQ%3D%3D?line=42'>43</a>\u001b[0m optimizer\u001b[39m.\u001b[39mstep()\n\u001b[0;32m---> <a href='vscode-notebook-cell:/Users/sach/Development/Python/VANO/playground.ipynb#X11sZmlsZQ%3D%3D?line=44'>45</a>\u001b[0m losses\u001b[39m.\u001b[39mappend(loss\u001b[39m.\u001b[39;49mitem())\n\u001b[1;32m     <a href='vscode-notebook-cell:/Users/sach/Development/Python/VANO/playground.ipynb#X11sZmlsZQ%3D%3D?line=46'>47</a>\u001b[0m \u001b[39mif\u001b[39;00m step \u001b[39m%\u001b[39m \u001b[39m1000\u001b[39m \u001b[39m==\u001b[39m \u001b[39m0\u001b[39m:\n\u001b[1;32m     <a href='vscode-notebook-cell:/Users/sach/Development/Python/VANO/playground.ipynb#X11sZmlsZQ%3D%3D?line=47'>48</a>\u001b[0m     lr_scheduler\u001b[39m.\u001b[39mstep()\n",
      "\u001b[0;31mKeyboardInterrupt\u001b[0m: "
     ]
    }
   ],
   "source": [
    "device = 'mps'\n",
    "\n",
    "# Training\n",
    "vano = VANO(device=device).to(device)\n",
    "vano.train()\n",
    "\n",
    "# Parameters:\n",
    "S = 4  # Monte Carlo samples for evaluating reconstruction loss in ELBO (E_q(z | x) [log p(x | z)])\n",
    "beta = 10e-5  # Weighting of KL divergence in ELBO\n",
    "batch_size = 32\n",
    "#num_iters = 20_000\n",
    "num_iters = 500\n",
    "\n",
    "# Exponential decay of every 1000 iterations by 0.9\n",
    "lr = 1e-3\n",
    "lr_decay = 0.9\n",
    "lr_decay_every = 1000\n",
    "optimizer = topt.Adam(vano.parameters(), lr=lr)\n",
    "lr_scheduler = topt.lr_scheduler.StepLR(optimizer, step_size=lr_decay_every, gamma=lr_decay)\n",
    "\n",
    "losses = []\n",
    "\n",
    "step = 0\n",
    "num_epochs = num_iters // len(train_loader)\n",
    "for epoch in (epoch_bar := tqdm(range(num_epochs), position=0, leave=True, desc=\"Epochs\")):\n",
    "    epoch_bar.set_description(f\"Epoch {epoch}\")\n",
    "    for grid, u in (iter_bar := tqdm(train_loader, position=1, leave=False)):\n",
    "        iter_bar.set_description(f\"Step {step}\")\n",
    "\n",
    "        #grid, u = grid.to(device), u.to(device)\n",
    "        \n",
    "        mu, logvar, z, u_hat = vano(u.view(-1, 1, 48, 48))\n",
    "        u_hat = u_hat.squeeze()\n",
    "\n",
    "        u, u_hat = u.flatten(1), u_hat.flatten(1)\n",
    "\n",
    "        # ELBO = E_p(eps)[log p(x | z=g(eps, x))] - KL(q(z | x) || p(z))\n",
    "        loss = F.mse_loss(u_hat, u, reduction='none').sum(axis=1).mean()\n",
    "        loss += beta * (0.5 * (mu ** 2 + logvar.exp() - logvar - 1).sum(axis=1).mean())\n",
    "        \n",
    "        optimizer.zero_grad()\n",
    "        loss.backward()            \n",
    "        optimizer.step()\n",
    "        \n",
    "        losses.append(loss.item())\n",
    "        \n",
    "        if step % 1000 == 0:\n",
    "            lr_scheduler.step()\n",
    "\n",
    "        step += 1\n",
    "\n",
    "plt.plot(losses)\n",
    "plt.show()"
   ]
  },
  {
   "cell_type": "code",
   "execution_count": null,
   "metadata": {},
   "outputs": [],
   "source": []
  },
  {
   "cell_type": "markdown",
   "metadata": {},
   "source": [
    "## 3. Phase Separation in Cahn-Hilliard Systems"
   ]
  },
  {
   "cell_type": "markdown",
   "metadata": {},
   "source": [
    "## 4. Interferometric Synthetic Aperture Radar"
   ]
  }
 ],
 "metadata": {
  "kernelspec": {
   "display_name": "deeplearning",
   "language": "python",
   "name": "python3"
  },
  "language_info": {
   "codemirror_mode": {
    "name": "ipython",
    "version": 3
   },
   "file_extension": ".py",
   "mimetype": "text/x-python",
   "name": "python",
   "nbconvert_exporter": "python",
   "pygments_lexer": "ipython3",
   "version": "3.9.18"
  }
 },
 "nbformat": 4,
 "nbformat_minor": 2
}
